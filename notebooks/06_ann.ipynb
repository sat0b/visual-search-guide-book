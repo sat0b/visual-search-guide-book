{
  "nbformat": 4,
  "nbformat_minor": 0,
  "metadata": {
    "colab": {
      "name": "06-ann",
      "provenance": [],
      "collapsed_sections": [],
      "toc_visible": true
    },
    "kernelspec": {
      "name": "python3",
      "display_name": "Python 3"
    },
    "language_info": {
      "name": "python"
    },
    "accelerator": "GPU"
  },
  "cells": [
    {
      "cell_type": "markdown",
      "metadata": {
        "id": "Iv11KxIXPkUr"
      },
      "source": [
        "# 第7章 近似近傍探索"
      ]
    },
    {
      "cell_type": "markdown",
      "metadata": {
        "id": "TABxpmqFPihu"
      },
      "source": [
        "## 画像の準備"
      ]
    },
    {
      "cell_type": "code",
      "metadata": {
        "id": "gJKZDQt1P0O4"
      },
      "source": [
        "!mkdir -p ~/.kaggle/\n",
        "!cp drive/MyDrive/visual-search-book/landscape/kaggle.json ~/.kaggle\n",
        "!kaggle datasets download arnaud58/landscape-pictures\n",
        "!unzip landscape-pictures.zip -d landscape-pictures"
      ],
      "execution_count": null,
      "outputs": []
    },
    {
      "cell_type": "markdown",
      "metadata": {
        "id": "olc_wd8UQV1u"
      },
      "source": [
        "## Annoyのインストール"
      ]
    },
    {
      "cell_type": "code",
      "metadata": {
        "colab": {
          "base_uri": "https://localhost:8080/"
        },
        "id": "Sb3SBm2A6GZs",
        "outputId": "2d45bf3d-aacf-435c-a65f-98e182e7b4f7"
      },
      "source": [
        "!pip install annoy==1.17.0"
      ],
      "execution_count": null,
      "outputs": [
        {
          "output_type": "stream",
          "text": [
            "Requirement already satisfied: annoy==1.17.0 in /usr/local/lib/python3.7/dist-packages (1.17.0)\n"
          ],
          "name": "stdout"
        }
      ]
    },
    {
      "cell_type": "markdown",
      "metadata": {
        "id": "eaJQWMYHPymB"
      },
      "source": [
        "## ANNインデックスを作成"
      ]
    },
    {
      "cell_type": "code",
      "metadata": {
        "colab": {
          "base_uri": "https://localhost:8080/"
        },
        "id": "lt80MX2X6N6L",
        "outputId": "e5e44afa-9003-4bab-9569-913876261fe3"
      },
      "source": [
        "#!/usr/bin/env python\n",
        "import pathlib\n",
        "import numpy as np\n",
        "import tensorflow as tf\n",
        "from tensorflow.keras.applications import resnet\n",
        "from tensorflow.keras.preprocessing import image\n",
        "from annoy import AnnoyIndex\n",
        "\n",
        "dir_path = \"./landscape-pictures/\"\n",
        "image_path_list = [path for path in pathlib.Path(dir_path).glob(\"*.jpg\")]\n",
        "image_path_list.sort()\n",
        "\n",
        "images = []\n",
        "for img_path in image_path_list:\n",
        "    img = image.load_img(img_path, target_size=(224, 224))\n",
        "    raw_image = image.img_to_array(img)\n",
        "    images.append(raw_image)\n",
        "\n",
        "images = np.array(images)\n",
        "\n",
        "# colabでは以下を実行するとメモリが溢れると思います。\n",
        "# images = np.r_[images, tf.image.flip_left_right(images)]\n",
        "# images = np.r_[images, tf.image.adjust_brightness(images, 0.8)]\n",
        "preprocessed = resnet.preprocess_input(images)\n",
        "\n",
        "model = tf.keras.applications.ResNet152(\n",
        "    include_top=False, weights='imagenet', input_tensor=None,\n",
        "    input_shape=None, pooling='avg', classes=1000\n",
        ")\n",
        "features = model.predict(preprocessed)\n",
        "\n",
        "dimensions = 2048\n",
        "index = AnnoyIndex(dimensions, 'euclidean')\n",
        "for i, feature in enumerate(features):\n",
        "    index.add_item(i, feature)\n",
        "\n",
        "index.build(10, n_jobs=-1)\n",
        "index.save('feature.ann')\n"
      ],
      "execution_count": null,
      "outputs": [
        {
          "output_type": "stream",
          "text": [
            "Downloading data from https://storage.googleapis.com/tensorflow/keras-applications/resnet/resnet152_weights_tf_dim_ordering_tf_kernels_notop.h5\n",
            "234700800/234698864 [==============================] - 5s 0us/step\n"
          ],
          "name": "stdout"
        },
        {
          "output_type": "execute_result",
          "data": {
            "text/plain": [
              "True"
            ]
          },
          "metadata": {
            "tags": []
          },
          "execution_count": 6
        }
      ]
    },
    {
      "cell_type": "markdown",
      "metadata": {
        "id": "StdFCKwpTGBc"
      },
      "source": [
        "## インデックスのロード"
      ]
    },
    {
      "cell_type": "code",
      "metadata": {
        "colab": {
          "base_uri": "https://localhost:8080/"
        },
        "id": "lLrMwjaJTDNe",
        "outputId": "1efb2e45-b404-45dc-cabe-a22a288308a7"
      },
      "source": [
        "index.load('feature.ann')"
      ],
      "execution_count": null,
      "outputs": [
        {
          "output_type": "execute_result",
          "data": {
            "text/plain": [
              "True"
            ]
          },
          "metadata": {
            "tags": []
          },
          "execution_count": 7
        }
      ]
    },
    {
      "cell_type": "markdown",
      "metadata": {
        "id": "nYcU0dbMTPCi"
      },
      "source": [
        "## インデックスの検索"
      ]
    },
    {
      "cell_type": "code",
      "metadata": {
        "colab": {
          "base_uri": "https://localhost:8080/"
        },
        "id": "0bU3PHeaTQqc",
        "outputId": "c93d8b93-2f3b-48be-8079-c91cb8200eef"
      },
      "source": [
        "index.get_nns_by_item(0, 10)"
      ],
      "execution_count": null,
      "outputs": [
        {
          "output_type": "execute_result",
          "data": {
            "text/plain": [
              "[0, 3268, 2609, 7, 1636, 3983, 3419, 3364, 3712, 3892]"
            ]
          },
          "metadata": {
            "tags": []
          },
          "execution_count": 11
        }
      ]
    }
  ]
}